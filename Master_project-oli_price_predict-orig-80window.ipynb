{
 "cells": [
  {
   "cell_type": "markdown",
   "id": "binding-latter",
   "metadata": {},
   "source": [
    "# CMM 513 M.Sc Project \n",
    "## Prediction of the Brent Oil Closing Price using Machine Learning \n",
    "### Dayo Adebayo - 1610762\n",
    "### M.Sc (Hons) Data Science, RGU"
   ]
  },
  {
   "cell_type": "markdown",
   "id": "destroyed-pharmacology",
   "metadata": {},
   "source": [
    "# PART 1: Data Loading/Compilation "
   ]
  },
  {
   "cell_type": "markdown",
   "id": "third-humanitarian",
   "metadata": {},
   "source": [
    "Introduction of My datasets\n",
    "\n",
    "The original datasets are obtained from the Yahoo Finance website [here](https://finance.yahoo.com/quote/BZ=F/history?period1=1310871600&period2=1626663599&interval=1d&frequency=1d&filter=history)\n",
    "\n",
    "My created clean dataset is [here](https://1drv.ms/u/s!Atyqwr17kqRhhd0hoUCv5VcuacdX4g?e=J8WbKm)"
   ]
  },
  {
   "cell_type": "code",
   "execution_count": 1,
   "id": "according-ranch",
   "metadata": {
    "scrolled": true
   },
   "outputs": [
    {
     "name": "stdout",
     "output_type": "stream",
     "text": [
      "INFO:tensorflow:Enabling eager execution\n",
      "INFO:tensorflow:Enabling v2 tensorshape\n",
      "INFO:tensorflow:Enabling resource variables\n",
      "INFO:tensorflow:Enabling tensor equality\n",
      "INFO:tensorflow:Enabling control flow v2\n"
     ]
    }
   ],
   "source": [
    "## Importing the necessary packages\n",
    "import numpy as np\n",
    "import matplotlib.pyplot as plt\n",
    "import pandas as pd\n",
    "import math\n",
    "#import pandas_datareader as web\n",
    "from keras.models import Sequential\n",
    "from keras.layers import Dense\n",
    "from keras.layers import LSTM, Flatten\n",
    "from keras.layers import Dropout\n",
    "from keras.layers import ConvLSTM2D\n",
    "from sklearn.preprocessing import MinMaxScaler\n",
    "from sklearn.metrics import mean_squared_error"
   ]
  },
  {
   "cell_type": "code",
   "execution_count": 2,
   "id": "postal-cricket",
   "metadata": {},
   "outputs": [],
   "source": [
    "# Loading my dataset\n",
    "dataset = pd.read_csv('/Users/Brent_historical_data.csv')\n",
    "dataset = dataset.dropna(how='any',axis=0) "
   ]
  },
  {
   "cell_type": "code",
   "execution_count": 3,
   "id": "meaningful-mexico",
   "metadata": {},
   "outputs": [
    {
     "name": "stdout",
     "output_type": "stream",
     "text": [
      "Shape of data (3509, 7)\n"
     ]
    },
    {
     "data": {
      "text/html": [
       "<div>\n",
       "<style scoped>\n",
       "    .dataframe tbody tr th:only-of-type {\n",
       "        vertical-align: middle;\n",
       "    }\n",
       "\n",
       "    .dataframe tbody tr th {\n",
       "        vertical-align: top;\n",
       "    }\n",
       "\n",
       "    .dataframe thead th {\n",
       "        text-align: right;\n",
       "    }\n",
       "</style>\n",
       "<table border=\"1\" class=\"dataframe\">\n",
       "  <thead>\n",
       "    <tr style=\"text-align: right;\">\n",
       "      <th></th>\n",
       "      <th>Date</th>\n",
       "      <th>Open</th>\n",
       "      <th>High</th>\n",
       "      <th>Low</th>\n",
       "      <th>Close</th>\n",
       "      <th>Adj Close</th>\n",
       "      <th>Volume</th>\n",
       "    </tr>\n",
       "  </thead>\n",
       "  <tbody>\n",
       "    <tr>\n",
       "      <th>0</th>\n",
       "      <td>30/07/2007</td>\n",
       "      <td>75.849998</td>\n",
       "      <td>76.529999</td>\n",
       "      <td>75.440002</td>\n",
       "      <td>75.739998</td>\n",
       "      <td>75.739998</td>\n",
       "      <td>2575.0</td>\n",
       "    </tr>\n",
       "    <tr>\n",
       "      <th>1</th>\n",
       "      <td>31/07/2007</td>\n",
       "      <td>75.699997</td>\n",
       "      <td>77.169998</td>\n",
       "      <td>75.669998</td>\n",
       "      <td>77.050003</td>\n",
       "      <td>77.050003</td>\n",
       "      <td>3513.0</td>\n",
       "    </tr>\n",
       "    <tr>\n",
       "      <th>2</th>\n",
       "      <td>01/08/2007</td>\n",
       "      <td>77.000000</td>\n",
       "      <td>77.059998</td>\n",
       "      <td>74.860001</td>\n",
       "      <td>75.349998</td>\n",
       "      <td>75.349998</td>\n",
       "      <td>3930.0</td>\n",
       "    </tr>\n",
       "    <tr>\n",
       "      <th>3</th>\n",
       "      <td>02/08/2007</td>\n",
       "      <td>75.220001</td>\n",
       "      <td>76.209999</td>\n",
       "      <td>74.269997</td>\n",
       "      <td>75.760002</td>\n",
       "      <td>75.760002</td>\n",
       "      <td>6180.0</td>\n",
       "    </tr>\n",
       "    <tr>\n",
       "      <th>4</th>\n",
       "      <td>03/08/2007</td>\n",
       "      <td>75.389999</td>\n",
       "      <td>76.000000</td>\n",
       "      <td>74.529999</td>\n",
       "      <td>74.750000</td>\n",
       "      <td>74.750000</td>\n",
       "      <td>4387.0</td>\n",
       "    </tr>\n",
       "  </tbody>\n",
       "</table>\n",
       "</div>"
      ],
      "text/plain": [
       "         Date       Open       High        Low      Close  Adj Close  Volume\n",
       "0  30/07/2007  75.849998  76.529999  75.440002  75.739998  75.739998  2575.0\n",
       "1  31/07/2007  75.699997  77.169998  75.669998  77.050003  77.050003  3513.0\n",
       "2  01/08/2007  77.000000  77.059998  74.860001  75.349998  75.349998  3930.0\n",
       "3  02/08/2007  75.220001  76.209999  74.269997  75.760002  75.760002  6180.0\n",
       "4  03/08/2007  75.389999  76.000000  74.529999  74.750000  74.750000  4387.0"
      ]
     },
     "execution_count": 3,
     "metadata": {},
     "output_type": "execute_result"
    }
   ],
   "source": [
    "# Having a glimpse of my dataset\n",
    "print ('Shape of data', dataset.shape)\n",
    "dataset.head()"
   ]
  },
  {
   "cell_type": "code",
   "execution_count": 4,
   "id": "plain-things",
   "metadata": {},
   "outputs": [
    {
     "data": {
      "text/html": [
       "<div>\n",
       "<style scoped>\n",
       "    .dataframe tbody tr th:only-of-type {\n",
       "        vertical-align: middle;\n",
       "    }\n",
       "\n",
       "    .dataframe tbody tr th {\n",
       "        vertical-align: top;\n",
       "    }\n",
       "\n",
       "    .dataframe thead th {\n",
       "        text-align: right;\n",
       "    }\n",
       "</style>\n",
       "<table border=\"1\" class=\"dataframe\">\n",
       "  <thead>\n",
       "    <tr style=\"text-align: right;\">\n",
       "      <th></th>\n",
       "      <th>Date</th>\n",
       "      <th>Open</th>\n",
       "      <th>High</th>\n",
       "      <th>Low</th>\n",
       "      <th>Close</th>\n",
       "      <th>Adj Close</th>\n",
       "      <th>Volume</th>\n",
       "    </tr>\n",
       "  </thead>\n",
       "  <tbody>\n",
       "    <tr>\n",
       "      <th>3594</th>\n",
       "      <td>03/11/2021</td>\n",
       "      <td>81.32</td>\n",
       "      <td>84.50</td>\n",
       "      <td>80.19</td>\n",
       "      <td>80.54</td>\n",
       "      <td>80.54</td>\n",
       "      <td>72626.0</td>\n",
       "    </tr>\n",
       "    <tr>\n",
       "      <th>3595</th>\n",
       "      <td>04/11/2021</td>\n",
       "      <td>81.00</td>\n",
       "      <td>83.15</td>\n",
       "      <td>80.27</td>\n",
       "      <td>82.74</td>\n",
       "      <td>82.74</td>\n",
       "      <td>43130.0</td>\n",
       "    </tr>\n",
       "    <tr>\n",
       "      <th>3596</th>\n",
       "      <td>08/11/2021</td>\n",
       "      <td>82.57</td>\n",
       "      <td>83.99</td>\n",
       "      <td>82.50</td>\n",
       "      <td>83.43</td>\n",
       "      <td>83.43</td>\n",
       "      <td>27655.0</td>\n",
       "    </tr>\n",
       "    <tr>\n",
       "      <th>3597</th>\n",
       "      <td>09/11/2021</td>\n",
       "      <td>83.59</td>\n",
       "      <td>85.14</td>\n",
       "      <td>83.18</td>\n",
       "      <td>84.78</td>\n",
       "      <td>84.78</td>\n",
       "      <td>34996.0</td>\n",
       "    </tr>\n",
       "    <tr>\n",
       "      <th>3598</th>\n",
       "      <td>10/11/2021</td>\n",
       "      <td>85.16</td>\n",
       "      <td>85.50</td>\n",
       "      <td>82.09</td>\n",
       "      <td>82.64</td>\n",
       "      <td>82.64</td>\n",
       "      <td>34996.0</td>\n",
       "    </tr>\n",
       "  </tbody>\n",
       "</table>\n",
       "</div>"
      ],
      "text/plain": [
       "            Date   Open   High    Low  Close  Adj Close   Volume\n",
       "3594  03/11/2021  81.32  84.50  80.19  80.54      80.54  72626.0\n",
       "3595  04/11/2021  81.00  83.15  80.27  82.74      82.74  43130.0\n",
       "3596  08/11/2021  82.57  83.99  82.50  83.43      83.43  27655.0\n",
       "3597  09/11/2021  83.59  85.14  83.18  84.78      84.78  34996.0\n",
       "3598  10/11/2021  85.16  85.50  82.09  82.64      82.64  34996.0"
      ]
     },
     "execution_count": 4,
     "metadata": {},
     "output_type": "execute_result"
    }
   ],
   "source": [
    "dataset.tail()"
   ]
  },
  {
   "cell_type": "code",
   "execution_count": 5,
   "id": "labeled-individual",
   "metadata": {},
   "outputs": [
    {
     "data": {
      "image/png": "[encoded data removed]",
      "text/plain": [
       "<Figure size 1152x576 with 1 Axes>"
      ]
     },
     "metadata": {
      "needs_background": "light"
     },
     "output_type": "display_data"
    }
   ],
   "source": [
    "plt.figure(figsize=(16,8))\n",
    "plt.title('Close Price History for Brent Oil Share')\n",
    "plt.plot(range(dataset.shape[0]),(dataset['Close']))\n",
    "plt.xticks(range(0,dataset.shape[0],500),dataset['Date'].loc[::500],rotation=45)\n",
    "plt.xlabel('Date',fontsize=18)\n",
    "plt.ylabel('Close Price USD ($)',fontsize=18)\n",
    "plt.show()"
   ]
  },
  {
   "cell_type": "code",
   "execution_count": 6,
   "id": "selective-permit",
   "metadata": {},
   "outputs": [],
   "source": [
    "#Convert pandas dataframe to numpy array\n",
    "dataset4 = dataset.filter(['Close'])\n",
    "dataset4 = dataset4.values\n",
    "#dataset4 = dataset4.astype('float32') #Convert values to float"
   ]
  },
  {
   "cell_type": "code",
   "execution_count": 7,
   "id": "sized-rally",
   "metadata": {},
   "outputs": [],
   "source": [
    "# We cannot use random way of splitting dataset into train and test as\n",
    "# the sequence of events is important for time series.\n",
    "# So let us take first 80% values for train and the remaining 20% for testing\n",
    "# split into train and test sets\n",
    "train_size = int(len(dataset4) * 0.8)\n",
    "test_size = len(dataset4) - train_size\n",
    "train, test = dataset4[0:train_size,:], dataset4[train_size:len(dataset4),:]"
   ]
  },
  {
   "cell_type": "code",
   "execution_count": 8,
   "id": "blessed-accounting",
   "metadata": {},
   "outputs": [
    {
     "data": {
      "text/plain": [
       "array([[0.45070307],\n",
       "       [0.46116971],\n",
       "       [0.44758705],\n",
       "       ...,\n",
       "       [0.51214443],\n",
       "       [0.52293063],\n",
       "       [0.50583251]])"
      ]
     },
     "execution_count": 8,
     "metadata": {},
     "output_type": "execute_result"
    }
   ],
   "source": [
    "# LSTM uses sigmoid and tanh that are sensitive to magnitude so values need to be normalized\n",
    "# normalize the dataset\n",
    "scaler = MinMaxScaler(feature_range=(0, 1)) #Also try QuantileTransformer\n",
    "scaled_data = scaler.fit_transform(dataset4)\n",
    "\n",
    "scaled_data"
   ]
  },
  {
   "cell_type": "code",
   "execution_count": 9,
   "id": "patent-yellow",
   "metadata": {},
   "outputs": [
    {
     "name": "stdout",
     "output_type": "stream",
     "text": [
      "[array([0.45070307, 0.46116971, 0.44758705, 0.45086289, 0.44279321,\n",
      "       0.4141898 , 0.4192234 , 0.41275165, 0.40651963, 0.40795779,\n",
      "       0.40667946, 0.40891659, 0.41794501, 0.40300411, 0.4083573 ,\n",
      "       0.4036433 , 0.3943752 , 0.39445506, 0.40372323, 0.40979547,\n",
      "       0.41243205, 0.40923619, 0.42185998, 0.42002237, 0.42633429,\n",
      "       0.43616168, 0.43951737, 0.44295298, 0.44534993, 0.44862577,\n",
      "       0.45581651, 0.46620324, 0.46172899, 0.45453818, 0.46061042,\n",
      "       0.46548413, 0.47251517, 0.47746879, 0.4791467 , 0.47603069,\n",
      "       0.46572388, 0.4642058 , 0.4849792 , 0.47810799, 0.46588364,\n",
      "       0.46380629, 0.46380629, 0.47651006, 0.47595078, 0.45741451,\n",
      "       0.46468517, 0.47355382, 0.485938  , 0.48913391, 0.50671139,\n",
      "       0.51310323, 0.50974748, 0.52149245, 0.51502076, 0.51086605,\n",
      "       0.50751035, 0.51965485, 0.54450304, 0.55417066, 0.56719397,\n",
      "       0.54418344, 0.56967077, 0.56240011, 0.58125599, 0.56855221,\n",
      "       0.59068392, 0.59052409, 0.58692872, 0.59004472, 0.58045702,\n",
      "       0.55528922, 0.57550334, 0.56647491, 0.5775807 , 0.58285392])]\n",
      "[0.6085010782797589]\n",
      "\n"
     ]
    }
   ],
   "source": [
    "# Create the training data set\n",
    "# Create the scaled training data set\n",
    "train_data = scaled_data[0:train_size , :]\n",
    "#Split the data into x_train and y_train data sets\n",
    "x_train = []\n",
    "y_train =[]\n",
    "\n",
    "for i in range (80, len(train_data)):\n",
    "    x_train.append(train_data[i-80:i, 0])\n",
    "    y_train.append(train_data[i, 0])\n",
    "    if i <= 80:\n",
    "        print(x_train)\n",
    "        print(y_train)\n",
    "        print()"
   ]
  },
  {
   "cell_type": "code",
   "execution_count": 10,
   "id": "center-sunglasses",
   "metadata": {},
   "outputs": [],
   "source": [
    "# Convert the x_train and y_train to numpy arrays\n",
    "x_train, y_train = np.array(x_train), np.array(y_train)"
   ]
  },
  {
   "cell_type": "code",
   "execution_count": 11,
   "id": "western-grove",
   "metadata": {},
   "outputs": [
    {
     "data": {
      "text/plain": [
       "(2727, 80, 1)"
      ]
     },
     "execution_count": 11,
     "metadata": {},
     "output_type": "execute_result"
    }
   ],
   "source": [
    "# Reshape the data\n",
    "x_train = np.reshape(x_train, (x_train.shape[0], x_train.shape[1], 1))\n",
    "x_train.shape"
   ]
  },
  {
   "cell_type": "code",
   "execution_count": 12,
   "id": "hazardous-addition",
   "metadata": {},
   "outputs": [
    {
     "name": "stdout",
     "output_type": "stream",
     "text": [
      "Single LSTM with hidden Dense...\n"
     ]
    }
   ],
   "source": [
    "# Build my LSTM model\n",
    "print('Single LSTM with hidden Dense...')\n",
    "model = Sequential()\n",
    "model.add(LSTM(64, return_sequences=True, input_shape=(x_train.shape[1], 1)))\n",
    "model.add(LSTM(64, return_sequences=False))\n",
    "model.add(Dense(32))\n",
    "model.add(Dense(1))"
   ]
  },
  {
   "cell_type": "code",
   "execution_count": 13,
   "id": "close-science",
   "metadata": {},
   "outputs": [],
   "source": [
    "# Compile my model\n",
    "model.compile(loss='mean_squared_error', optimizer='adam')"
   ]
  },
  {
   "cell_type": "code",
   "execution_count": 14,
   "id": "outside-flash",
   "metadata": {},
   "outputs": [
    {
     "name": "stdout",
     "output_type": "stream",
     "text": [
      "WARNING:tensorflow:AutoGraph could not transform <bound method Dense.call of <keras.layers.core.Dense object at 0x7fe75dff7e80>> and will run it as-is.\n",
      "Please report this to the TensorFlow team. When filing the bug, set the verbosity to 10 (on Linux, `export AUTOGRAPH_VERBOSITY=10`) and attach the full output.\n",
      "Cause: invalid syntax (tmp2u1lredw.py, line 48)\n",
      "To silence this warning, decorate the function with @tf.autograph.experimental.do_not_convert\n",
      "WARNING: AutoGraph could not transform <bound method Dense.call of <keras.layers.core.Dense object at 0x7fe75dff7e80>> and will run it as-is.\n",
      "Please report this to the TensorFlow team. When filing the bug, set the verbosity to 10 (on Linux, `export AUTOGRAPH_VERBOSITY=10`) and attach the full output.\n",
      "Cause: invalid syntax (tmp2u1lredw.py, line 48)\n",
      "To silence this warning, decorate the function with @tf.autograph.experimental.do_not_convert\n",
      "2727/2727 [==============================] - 125s 40ms/step - loss: 0.0043\n"
     ]
    },
    {
     "data": {
      "text/plain": [
       "<keras.callbacks.History at 0x7fe75d0835b0>"
      ]
     },
     "execution_count": 14,
     "metadata": {},
     "output_type": "execute_result"
    }
   ],
   "source": [
    "# Train the model\n",
    "model.fit(x_train, y_train, batch_size=1, epochs=1)"
   ]
  },
  {
   "cell_type": "code",
   "execution_count": 15,
   "id": "adult-anxiety",
   "metadata": {},
   "outputs": [],
   "source": [
    "# Create the testing data set\n",
    "# Create a new array containing scaled values from index 2868 to 3585\n",
    "test_data = scaled_data[train_size - 80: , :]\n",
    "# Create the data sets x_test and y_test\n",
    "x_test = []\n",
    "y_test = dataset4[train_size:, :]\n",
    "for i in range(80, len(test_data)):\n",
    "    x_test.append(test_data[i-80:i, 0])"
   ]
  },
  {
   "cell_type": "code",
   "execution_count": 16,
   "id": "broken-independence",
   "metadata": {},
   "outputs": [],
   "source": [
    "# Convert the data to a numpy array \n",
    "x_test = np.array(x_test)"
   ]
  },
  {
   "cell_type": "code",
   "execution_count": 17,
   "id": "historical-links",
   "metadata": {},
   "outputs": [
    {
     "data": {
      "text/plain": [
       "(702, 80, 1)"
      ]
     },
     "execution_count": 17,
     "metadata": {},
     "output_type": "execute_result"
    }
   ],
   "source": [
    "# Reshape the data\n",
    "x_test = np.reshape(x_test, (x_test.shape[0], x_test.shape[1], 1))\n",
    "\n",
    "x_test.shape"
   ]
  },
  {
   "cell_type": "code",
   "execution_count": 18,
   "id": "supported-cricket",
   "metadata": {},
   "outputs": [],
   "source": [
    "# Get the models predicted price values\n",
    "predictions = model.predict(x_test)\n",
    "predictions = scaler.inverse_transform(predictions)"
   ]
  },
  {
   "cell_type": "code",
   "execution_count": 19,
   "id": "distinguished-election",
   "metadata": {},
   "outputs": [
    {
     "data": {
      "text/plain": [
       "1.9588307331071728"
      ]
     },
     "execution_count": 19,
     "metadata": {},
     "output_type": "execute_result"
    }
   ],
   "source": [
    "# Get the root mean squared error (RMSE)\n",
    "rmse = np.sqrt( np.mean( predictions - y_test )**2 )\n",
    "rmse"
   ]
  },
  {
   "cell_type": "code",
   "execution_count": 20,
   "id": "sudden-philip",
   "metadata": {},
   "outputs": [
    {
     "name": "stderr",
     "output_type": "stream",
     "text": [
      "<ipython-input-20-8710124e3a8f>:4: SettingWithCopyWarning: \n",
      "A value is trying to be set on a copy of a slice from a DataFrame.\n",
      "Try using .loc[row_indexer,col_indexer] = value instead\n",
      "\n",
      "See the caveats in the documentation: https://pandas.pydata.org/pandas-docs/stable/user_guide/indexing.html#returning-a-view-versus-a-copy\n",
      "  valid['Predictions'] = predictions\n"
     ]
    },
    {
     "data": {
      "image/png": "[encoded data removed]",
      "text/plain": [
       "<Figure size 1152x576 with 1 Axes>"
      ]
     },
     "metadata": {
      "needs_background": "light"
     },
     "output_type": "display_data"
    }
   ],
   "source": [
    "# Plot the data\n",
    "train = dataset[:train_size]\n",
    "valid = dataset[train_size:]\n",
    "valid['Predictions'] = predictions\n",
    "# Visualise the data\n",
    "plt.figure(figsize=(16,8))\n",
    "plt.title('Model')\n",
    "plt.xlabel('Date', fontsize=18)\n",
    "plt.ylabel('Close Price USD ($)', fontsize=18)\n",
    "plt.xticks(range(0,dataset.shape[0],500),dataset['Date'].loc[::500],rotation=45)\n",
    "plt.plot(train['Close'])\n",
    "plt.plot(valid[['Close', 'Predictions']])\n",
    "plt.legend(['Train', 'Valid', 'Predictions'], loc='lower right')\n",
    "plt.show()"
   ]
  },
  {
   "cell_type": "code",
   "execution_count": 21,
   "id": "incorporate-issue",
   "metadata": {},
   "outputs": [
    {
     "data": {
      "text/html": [
       "<div>\n",
       "<style scoped>\n",
       "    .dataframe tbody tr th:only-of-type {\n",
       "        vertical-align: middle;\n",
       "    }\n",
       "\n",
       "    .dataframe tbody tr th {\n",
       "        vertical-align: top;\n",
       "    }\n",
       "\n",
       "    .dataframe thead th {\n",
       "        text-align: right;\n",
       "    }\n",
       "</style>\n",
       "<table border=\"1\" class=\"dataframe\">\n",
       "  <thead>\n",
       "    <tr style=\"text-align: right;\">\n",
       "      <th></th>\n",
       "      <th>Date</th>\n",
       "      <th>Open</th>\n",
       "      <th>High</th>\n",
       "      <th>Low</th>\n",
       "      <th>Close</th>\n",
       "      <th>Adj Close</th>\n",
       "      <th>Volume</th>\n",
       "      <th>Predictions</th>\n",
       "    </tr>\n",
       "  </thead>\n",
       "  <tbody>\n",
       "    <tr>\n",
       "      <th>2889</th>\n",
       "      <td>17/01/2019</td>\n",
       "      <td>61.180000</td>\n",
       "      <td>61.540001</td>\n",
       "      <td>60.040001</td>\n",
       "      <td>61.180000</td>\n",
       "      <td>61.180000</td>\n",
       "      <td>30131.0</td>\n",
       "      <td>58.636253</td>\n",
       "    </tr>\n",
       "    <tr>\n",
       "      <th>2890</th>\n",
       "      <td>18/01/2019</td>\n",
       "      <td>61.189999</td>\n",
       "      <td>62.990002</td>\n",
       "      <td>61.060001</td>\n",
       "      <td>62.700001</td>\n",
       "      <td>62.700001</td>\n",
       "      <td>39637.0</td>\n",
       "      <td>58.800968</td>\n",
       "    </tr>\n",
       "    <tr>\n",
       "      <th>2891</th>\n",
       "      <td>22/01/2019</td>\n",
       "      <td>62.740002</td>\n",
       "      <td>63.119999</td>\n",
       "      <td>60.580002</td>\n",
       "      <td>61.500000</td>\n",
       "      <td>61.500000</td>\n",
       "      <td>53602.0</td>\n",
       "      <td>59.226780</td>\n",
       "    </tr>\n",
       "    <tr>\n",
       "      <th>2892</th>\n",
       "      <td>23/01/2019</td>\n",
       "      <td>61.570000</td>\n",
       "      <td>62.299999</td>\n",
       "      <td>60.220001</td>\n",
       "      <td>61.139999</td>\n",
       "      <td>61.139999</td>\n",
       "      <td>35364.0</td>\n",
       "      <td>59.418468</td>\n",
       "    </tr>\n",
       "    <tr>\n",
       "      <th>2893</th>\n",
       "      <td>24/01/2019</td>\n",
       "      <td>61.020000</td>\n",
       "      <td>61.500000</td>\n",
       "      <td>60.410000</td>\n",
       "      <td>61.090000</td>\n",
       "      <td>61.090000</td>\n",
       "      <td>35861.0</td>\n",
       "      <td>59.405979</td>\n",
       "    </tr>\n",
       "    <tr>\n",
       "      <th>...</th>\n",
       "      <td>...</td>\n",
       "      <td>...</td>\n",
       "      <td>...</td>\n",
       "      <td>...</td>\n",
       "      <td>...</td>\n",
       "      <td>...</td>\n",
       "      <td>...</td>\n",
       "      <td>...</td>\n",
       "    </tr>\n",
       "    <tr>\n",
       "      <th>3594</th>\n",
       "      <td>03/11/2021</td>\n",
       "      <td>81.320000</td>\n",
       "      <td>84.500000</td>\n",
       "      <td>80.190000</td>\n",
       "      <td>80.540000</td>\n",
       "      <td>80.540000</td>\n",
       "      <td>72626.0</td>\n",
       "      <td>81.060234</td>\n",
       "    </tr>\n",
       "    <tr>\n",
       "      <th>3595</th>\n",
       "      <td>04/11/2021</td>\n",
       "      <td>81.000000</td>\n",
       "      <td>83.150000</td>\n",
       "      <td>80.270000</td>\n",
       "      <td>82.740000</td>\n",
       "      <td>82.740000</td>\n",
       "      <td>43130.0</td>\n",
       "      <td>80.054199</td>\n",
       "    </tr>\n",
       "    <tr>\n",
       "      <th>3596</th>\n",
       "      <td>08/11/2021</td>\n",
       "      <td>82.570000</td>\n",
       "      <td>83.990000</td>\n",
       "      <td>82.500000</td>\n",
       "      <td>83.430000</td>\n",
       "      <td>83.430000</td>\n",
       "      <td>27655.0</td>\n",
       "      <td>79.625130</td>\n",
       "    </tr>\n",
       "    <tr>\n",
       "      <th>3597</th>\n",
       "      <td>09/11/2021</td>\n",
       "      <td>83.590000</td>\n",
       "      <td>85.140000</td>\n",
       "      <td>83.180000</td>\n",
       "      <td>84.780000</td>\n",
       "      <td>84.780000</td>\n",
       "      <td>34996.0</td>\n",
       "      <td>79.659447</td>\n",
       "    </tr>\n",
       "    <tr>\n",
       "      <th>3598</th>\n",
       "      <td>10/11/2021</td>\n",
       "      <td>85.160000</td>\n",
       "      <td>85.500000</td>\n",
       "      <td>82.090000</td>\n",
       "      <td>82.640000</td>\n",
       "      <td>82.640000</td>\n",
       "      <td>34996.0</td>\n",
       "      <td>80.175629</td>\n",
       "    </tr>\n",
       "  </tbody>\n",
       "</table>\n",
       "<p>702 rows × 8 columns</p>\n",
       "</div>"
      ],
      "text/plain": [
       "            Date       Open       High        Low      Close  Adj Close  \\\n",
       "2889  17/01/2019  61.180000  61.540001  60.040001  61.180000  61.180000   \n",
       "2890  18/01/2019  61.189999  62.990002  61.060001  62.700001  62.700001   \n",
       "2891  22/01/2019  62.740002  63.119999  60.580002  61.500000  61.500000   \n",
       "2892  23/01/2019  61.570000  62.299999  60.220001  61.139999  61.139999   \n",
       "2893  24/01/2019  61.020000  61.500000  60.410000  61.090000  61.090000   \n",
       "...          ...        ...        ...        ...        ...        ...   \n",
       "3594  03/11/2021  81.320000  84.500000  80.190000  80.540000  80.540000   \n",
       "3595  04/11/2021  81.000000  83.150000  80.270000  82.740000  82.740000   \n",
       "3596  08/11/2021  82.570000  83.990000  82.500000  83.430000  83.430000   \n",
       "3597  09/11/2021  83.590000  85.140000  83.180000  84.780000  84.780000   \n",
       "3598  10/11/2021  85.160000  85.500000  82.090000  82.640000  82.640000   \n",
       "\n",
       "       Volume  Predictions  \n",
       "2889  30131.0    58.636253  \n",
       "2890  39637.0    58.800968  \n",
       "2891  53602.0    59.226780  \n",
       "2892  35364.0    59.418468  \n",
       "2893  35861.0    59.405979  \n",
       "...       ...          ...  \n",
       "3594  72626.0    81.060234  \n",
       "3595  43130.0    80.054199  \n",
       "3596  27655.0    79.625130  \n",
       "3597  34996.0    79.659447  \n",
       "3598  34996.0    80.175629  \n",
       "\n",
       "[702 rows x 8 columns]"
      ]
     },
     "execution_count": 21,
     "metadata": {},
     "output_type": "execute_result"
    }
   ],
   "source": [
    "# Show the valid and predicted prices\n",
    "valid"
   ]
  },
  {
   "cell_type": "code",
   "execution_count": 22,
   "id": "injured-silver",
   "metadata": {},
   "outputs": [
    {
     "name": "stdout",
     "output_type": "stream",
     "text": [
      "[[80.289856]]\n"
     ]
    }
   ],
   "source": [
    "# Get the the quote\n",
    "oil_quote = pd.read_csv('/Users/Brent_historical_data.csv')\n",
    "oil_quote = oil_quote.dropna(how='any',axis=0) \n",
    "# Create a new dataframe\n",
    "new_df = oil_quote.filter(['Close'])\n",
    "# Get the last 80 days closing price values and convert the dataframe to an array\n",
    "last_80_days = new_df[-80:].values\n",
    "# Scale the data to be values between 0 and 1\n",
    "last_80_days_scaled = scaler.transform(last_80_days)\n",
    "# Create an empty list\n",
    "X_test = []\n",
    "# Append the past 80 days\n",
    "X_test.append(last_80_days_scaled)\n",
    "# Convert the X_test data to a numpy array\n",
    "X_test = np.array(X_test)\n",
    "# Reshape the data\n",
    "X_test = np.reshape(X_test, (X_test.shape[0], X_test.shape[1], 1))\n",
    "# Get the predicted scaled price\n",
    "pred_price = model.predict(X_test)\n",
    "# Undo the scaling\n",
    "pred_price = scaler.inverse_transform(pred_price)\n",
    "print(pred_price)\n"
   ]
  },
  {
   "cell_type": "markdown",
   "id": "exceptional-river",
   "metadata": {},
   "source": [
    "The ARIMA Model"
   ]
  },
  {
   "cell_type": "code",
   "execution_count": 23,
   "id": "selective-covering",
   "metadata": {},
   "outputs": [
    {
     "name": "stdout",
     "output_type": "stream",
     "text": [
      "Shape of data (3509, 6)\n"
     ]
    },
    {
     "data": {
      "text/html": [
       "<div>\n",
       "<style scoped>\n",
       "    .dataframe tbody tr th:only-of-type {\n",
       "        vertical-align: middle;\n",
       "    }\n",
       "\n",
       "    .dataframe tbody tr th {\n",
       "        vertical-align: top;\n",
       "    }\n",
       "\n",
       "    .dataframe thead th {\n",
       "        text-align: right;\n",
       "    }\n",
       "</style>\n",
       "<table border=\"1\" class=\"dataframe\">\n",
       "  <thead>\n",
       "    <tr style=\"text-align: right;\">\n",
       "      <th></th>\n",
       "      <th>Open</th>\n",
       "      <th>High</th>\n",
       "      <th>Low</th>\n",
       "      <th>Close</th>\n",
       "      <th>Adj Close</th>\n",
       "      <th>Volume</th>\n",
       "    </tr>\n",
       "    <tr>\n",
       "      <th>Date</th>\n",
       "      <th></th>\n",
       "      <th></th>\n",
       "      <th></th>\n",
       "      <th></th>\n",
       "      <th></th>\n",
       "      <th></th>\n",
       "    </tr>\n",
       "  </thead>\n",
       "  <tbody>\n",
       "    <tr>\n",
       "      <th>2007-07-30</th>\n",
       "      <td>75.849998</td>\n",
       "      <td>76.529999</td>\n",
       "      <td>75.440002</td>\n",
       "      <td>75.739998</td>\n",
       "      <td>75.739998</td>\n",
       "      <td>2575.0</td>\n",
       "    </tr>\n",
       "    <tr>\n",
       "      <th>2007-07-31</th>\n",
       "      <td>75.699997</td>\n",
       "      <td>77.169998</td>\n",
       "      <td>75.669998</td>\n",
       "      <td>77.050003</td>\n",
       "      <td>77.050003</td>\n",
       "      <td>3513.0</td>\n",
       "    </tr>\n",
       "    <tr>\n",
       "      <th>2007-01-08</th>\n",
       "      <td>77.000000</td>\n",
       "      <td>77.059998</td>\n",
       "      <td>74.860001</td>\n",
       "      <td>75.349998</td>\n",
       "      <td>75.349998</td>\n",
       "      <td>3930.0</td>\n",
       "    </tr>\n",
       "    <tr>\n",
       "      <th>2007-02-08</th>\n",
       "      <td>75.220001</td>\n",
       "      <td>76.209999</td>\n",
       "      <td>74.269997</td>\n",
       "      <td>75.760002</td>\n",
       "      <td>75.760002</td>\n",
       "      <td>6180.0</td>\n",
       "    </tr>\n",
       "    <tr>\n",
       "      <th>2007-03-08</th>\n",
       "      <td>75.389999</td>\n",
       "      <td>76.000000</td>\n",
       "      <td>74.529999</td>\n",
       "      <td>74.750000</td>\n",
       "      <td>74.750000</td>\n",
       "      <td>4387.0</td>\n",
       "    </tr>\n",
       "  </tbody>\n",
       "</table>\n",
       "</div>"
      ],
      "text/plain": [
       "                 Open       High        Low      Close  Adj Close  Volume\n",
       "Date                                                                     \n",
       "2007-07-30  75.849998  76.529999  75.440002  75.739998  75.739998  2575.0\n",
       "2007-07-31  75.699997  77.169998  75.669998  77.050003  77.050003  3513.0\n",
       "2007-01-08  77.000000  77.059998  74.860001  75.349998  75.349998  3930.0\n",
       "2007-02-08  75.220001  76.209999  74.269997  75.760002  75.760002  6180.0\n",
       "2007-03-08  75.389999  76.000000  74.529999  74.750000  74.750000  4387.0"
      ]
     },
     "execution_count": 23,
     "metadata": {},
     "output_type": "execute_result"
    }
   ],
   "source": [
    "# evaluate an ARIMA model using a walk-forward validation\n",
    "from matplotlib import pyplot\n",
    "from statsmodels.tsa.stattools import adfuller\n",
    "from statsmodels.tsa.arima.model import ARIMA\n",
    "from sklearn.metrics import mean_squared_error\n",
    "from math import sqrt\n",
    "# load dataset\n",
    "dataset = pd.read_csv('/Users/Brent_historical_data.csv', index_col='Date', parse_dates=True)\n",
    "dataset = dataset.dropna(how='any',axis=0) \n",
    "# Having a glimpse of my dataset\n",
    "print ('Shape of data', dataset.shape)\n",
    "dataset.head()"
   ]
  },
  {
   "cell_type": "code",
   "execution_count": 24,
   "id": "protected-stockholm",
   "metadata": {},
   "outputs": [],
   "source": [
    "# Check for Stationarity\n",
    "def ad_test(data):\n",
    "    datasetTest = adfuller(data, autolag = 'AIC')\n",
    "    print(\"1. ADF : \", datasetTest[0])\n",
    "    print(\"2. P-Value : \", datasetTest[1])\n",
    "    print(\"3. Num of Lags : \", datasetTest[2])\n",
    "    print(\"4. Num of Observations Used for ADF Regression and Critical Values Calculation : \", datasetTest[3])\n",
    "    print(\"5. Critical Values : \",)\n",
    "    for key, val in datasetTest[4].items():\n",
    "        print(\"\\t\", key, \": \", val)"
   ]
  },
  {
   "cell_type": "code",
   "execution_count": 25,
   "id": "governing-burning",
   "metadata": {},
   "outputs": [
    {
     "name": "stdout",
     "output_type": "stream",
     "text": [
      "1. ADF :  -1.7524325789100328\n",
      "2. P-Value :  0.4043199697796198\n",
      "3. Num of Lags :  4\n",
      "4. Num of Observations Used for ADF Regression and Critical Values Calculation :  3504\n",
      "5. Critical Values : \n",
      "\t 1% :  -3.432217607589796\n",
      "\t 5% :  -2.862365203080607\n",
      "\t 10% :  -2.5672092698787816\n"
     ]
    }
   ],
   "source": [
    "ad_test(dataset['Close'])"
   ]
  },
  {
   "cell_type": "code",
   "execution_count": 26,
   "id": "peripheral-needle",
   "metadata": {},
   "outputs": [],
   "source": [
    "# Figure Out Order for ARIMA Model\n",
    "from pmdarima import auto_arima\n",
    "# Ignore harmless warnings\n",
    "import warnings\n",
    "warnings.filterwarnings(\"ignore\")"
   ]
  },
  {
   "cell_type": "code",
   "execution_count": 27,
   "id": "handed-zoning",
   "metadata": {},
   "outputs": [
    {
     "name": "stdout",
     "output_type": "stream",
     "text": [
      "Performing stepwise search to minimize aic\n",
      " ARIMA(2,1,2)(0,0,0)[0] intercept   : AIC=13050.870, Time=2.20 sec\n",
      " ARIMA(0,1,0)(0,0,0)[0] intercept   : AIC=13057.149, Time=0.07 sec\n",
      " ARIMA(1,1,0)(0,0,0)[0] intercept   : AIC=13052.275, Time=0.16 sec\n",
      " ARIMA(0,1,1)(0,0,0)[0] intercept   : AIC=13051.970, Time=0.19 sec\n",
      " ARIMA(0,1,0)(0,0,0)[0]             : AIC=13055.155, Time=0.07 sec\n",
      " ARIMA(1,1,2)(0,0,0)[0] intercept   : AIC=13054.600, Time=1.66 sec\n",
      " ARIMA(2,1,1)(0,0,0)[0] intercept   : AIC=13054.357, Time=0.82 sec\n",
      " ARIMA(3,1,2)(0,0,0)[0] intercept   : AIC=13052.405, Time=1.97 sec\n",
      " ARIMA(2,1,3)(0,0,0)[0] intercept   : AIC=13052.444, Time=2.20 sec\n",
      " ARIMA(1,1,1)(0,0,0)[0] intercept   : AIC=13053.376, Time=0.61 sec\n",
      " ARIMA(1,1,3)(0,0,0)[0] intercept   : AIC=13041.845, Time=2.06 sec\n",
      " ARIMA(0,1,3)(0,0,0)[0] intercept   : AIC=13053.783, Time=0.42 sec\n",
      " ARIMA(1,1,4)(0,0,0)[0] intercept   : AIC=13049.050, Time=1.34 sec\n",
      " ARIMA(0,1,2)(0,0,0)[0] intercept   : AIC=13052.753, Time=0.28 sec\n",
      " ARIMA(0,1,4)(0,0,0)[0] intercept   : AIC=13047.412, Time=0.52 sec\n",
      " ARIMA(2,1,4)(0,0,0)[0] intercept   : AIC=13050.614, Time=1.58 sec\n",
      " ARIMA(1,1,3)(0,0,0)[0]             : AIC=13039.848, Time=0.83 sec\n",
      " ARIMA(0,1,3)(0,0,0)[0]             : AIC=13051.789, Time=0.20 sec\n",
      " ARIMA(1,1,2)(0,0,0)[0]             : AIC=13052.607, Time=0.42 sec\n",
      " ARIMA(2,1,3)(0,0,0)[0]             : AIC=13050.449, Time=0.99 sec\n",
      " ARIMA(1,1,4)(0,0,0)[0]             : AIC=13047.056, Time=0.62 sec\n",
      " ARIMA(0,1,2)(0,0,0)[0]             : AIC=13050.760, Time=0.12 sec\n",
      " ARIMA(0,1,4)(0,0,0)[0]             : AIC=13045.418, Time=0.23 sec\n",
      " ARIMA(2,1,2)(0,0,0)[0]             : AIC=13048.876, Time=0.83 sec\n",
      " ARIMA(2,1,4)(0,0,0)[0]             : AIC=13048.620, Time=0.76 sec\n",
      "\n",
      "Best model:  ARIMA(1,1,3)(0,0,0)[0]          \n",
      "Total fit time: 21.172 seconds\n"
     ]
    },
    {
     "data": {
      "text/html": [
       "<table class=\"simpletable\">\n",
       "<caption>SARIMAX Results</caption>\n",
       "<tr>\n",
       "  <th>Dep. Variable:</th>           <td>y</td>        <th>  No. Observations:  </th>   <td>3509</td>   \n",
       "</tr>\n",
       "<tr>\n",
       "  <th>Model:</th>           <td>SARIMAX(1, 1, 3)</td> <th>  Log Likelihood     </th> <td>-6514.924</td>\n",
       "</tr>\n",
       "<tr>\n",
       "  <th>Date:</th>            <td>Mon, 22 Nov 2021</td> <th>  AIC                </th> <td>13039.848</td>\n",
       "</tr>\n",
       "<tr>\n",
       "  <th>Time:</th>                <td>10:00:18</td>     <th>  BIC                </th> <td>13070.662</td>\n",
       "</tr>\n",
       "<tr>\n",
       "  <th>Sample:</th>                  <td>0</td>        <th>  HQIC               </th> <td>13050.844</td>\n",
       "</tr>\n",
       "<tr>\n",
       "  <th></th>                      <td> - 3509</td>     <th>                     </th>     <td> </td>    \n",
       "</tr>\n",
       "<tr>\n",
       "  <th>Covariance Type:</th>        <td>opg</td>       <th>                     </th>     <td> </td>    \n",
       "</tr>\n",
       "</table>\n",
       "<table class=\"simpletable\">\n",
       "<tr>\n",
       "     <td></td>       <th>coef</th>     <th>std err</th>      <th>z</th>      <th>P>|z|</th>  <th>[0.025</th>    <th>0.975]</th>  \n",
       "</tr>\n",
       "<tr>\n",
       "  <th>ar.L1</th>  <td>    0.9680</td> <td>    0.015</td> <td>   64.373</td> <td> 0.000</td> <td>    0.938</td> <td>    0.997</td>\n",
       "</tr>\n",
       "<tr>\n",
       "  <th>ma.L1</th>  <td>   -1.0172</td> <td>    0.019</td> <td>  -52.820</td> <td> 0.000</td> <td>   -1.055</td> <td>   -0.979</td>\n",
       "</tr>\n",
       "<tr>\n",
       "  <th>ma.L2</th>  <td>    0.0259</td> <td>    0.017</td> <td>    1.494</td> <td> 0.135</td> <td>   -0.008</td> <td>    0.060</td>\n",
       "</tr>\n",
       "<tr>\n",
       "  <th>ma.L3</th>  <td>    0.0363</td> <td>    0.013</td> <td>    2.783</td> <td> 0.005</td> <td>    0.011</td> <td>    0.062</td>\n",
       "</tr>\n",
       "<tr>\n",
       "  <th>sigma2</th> <td>    2.4023</td> <td>    0.032</td> <td>   74.450</td> <td> 0.000</td> <td>    2.339</td> <td>    2.466</td>\n",
       "</tr>\n",
       "</table>\n",
       "<table class=\"simpletable\">\n",
       "<tr>\n",
       "  <th>Ljung-Box (L1) (Q):</th>     <td>0.00</td> <th>  Jarque-Bera (JB):  </th> <td>2994.25</td>\n",
       "</tr>\n",
       "<tr>\n",
       "  <th>Prob(Q):</th>                <td>1.00</td> <th>  Prob(JB):          </th>  <td>0.00</td>  \n",
       "</tr>\n",
       "<tr>\n",
       "  <th>Heteroskedasticity (H):</th> <td>0.41</td> <th>  Skew:              </th>  <td>-0.24</td> \n",
       "</tr>\n",
       "<tr>\n",
       "  <th>Prob(H) (two-sided):</th>    <td>0.00</td> <th>  Kurtosis:          </th>  <td>7.50</td>  \n",
       "</tr>\n",
       "</table><br/><br/>Warnings:<br/>[1] Covariance matrix calculated using the outer product of gradients (complex-step)."
      ],
      "text/plain": [
       "<class 'statsmodels.iolib.summary.Summary'>\n",
       "\"\"\"\n",
       "                               SARIMAX Results                                \n",
       "==============================================================================\n",
       "Dep. Variable:                      y   No. Observations:                 3509\n",
       "Model:               SARIMAX(1, 1, 3)   Log Likelihood               -6514.924\n",
       "Date:                Mon, 22 Nov 2021   AIC                          13039.848\n",
       "Time:                        10:00:18   BIC                          13070.662\n",
       "Sample:                             0   HQIC                         13050.844\n",
       "                               - 3509                                         \n",
       "Covariance Type:                  opg                                         \n",
       "==============================================================================\n",
       "                 coef    std err          z      P>|z|      [0.025      0.975]\n",
       "------------------------------------------------------------------------------\n",
       "ar.L1          0.9680      0.015     64.373      0.000       0.938       0.997\n",
       "ma.L1         -1.0172      0.019    -52.820      0.000      -1.055      -0.979\n",
       "ma.L2          0.0259      0.017      1.494      0.135      -0.008       0.060\n",
       "ma.L3          0.0363      0.013      2.783      0.005       0.011       0.062\n",
       "sigma2         2.4023      0.032     74.450      0.000       2.339       2.466\n",
       "===================================================================================\n",
       "Ljung-Box (L1) (Q):                   0.00   Jarque-Bera (JB):              2994.25\n",
       "Prob(Q):                              1.00   Prob(JB):                         0.00\n",
       "Heteroskedasticity (H):               0.41   Skew:                            -0.24\n",
       "Prob(H) (two-sided):                  0.00   Kurtosis:                         7.50\n",
       "===================================================================================\n",
       "\n",
       "Warnings:\n",
       "[1] Covariance matrix calculated using the outer product of gradients (complex-step).\n",
       "\"\"\""
      ]
     },
     "execution_count": 27,
     "metadata": {},
     "output_type": "execute_result"
    }
   ],
   "source": [
    "stepwise_fit = auto_arima(dataset['Close'], trace=True,\n",
    "                         suppress_warnings=True)\n",
    "\n",
    "stepwise_fit.summary()"
   ]
  },
  {
   "cell_type": "code",
   "execution_count": 28,
   "id": "bright-moldova",
   "metadata": {},
   "outputs": [
    {
     "name": "stdout",
     "output_type": "stream",
     "text": [
      "(3509, 6)\n",
      "(3489, 6) (20, 6)\n"
     ]
    }
   ],
   "source": [
    "# Splitting my dataset\n",
    "print(dataset.shape)\n",
    "train=dataset.iloc[:-20]\n",
    "test=dataset.iloc[-20:]\n",
    "print(train.shape,test.shape)"
   ]
  },
  {
   "cell_type": "code",
   "execution_count": 29,
   "id": "weekly-exchange",
   "metadata": {},
   "outputs": [
    {
     "data": {
      "text/html": [
       "<table class=\"simpletable\">\n",
       "<caption>ARIMA Model Results</caption>\n",
       "<tr>\n",
       "  <th>Dep. Variable:</th>      <td>D.Close</td>     <th>  No. Observations:  </th>   <td>3488</td>   \n",
       "</tr>\n",
       "<tr>\n",
       "  <th>Model:</th>          <td>ARIMA(1, 1, 3)</td>  <th>  Log Likelihood     </th> <td>-6481.844</td>\n",
       "</tr>\n",
       "<tr>\n",
       "  <th>Method:</th>             <td>css-mle</td>     <th>  S.D. of innovations</th>   <td>1.552</td>  \n",
       "</tr>\n",
       "<tr>\n",
       "  <th>Date:</th>          <td>Mon, 22 Nov 2021</td> <th>  AIC                </th> <td>12975.688</td>\n",
       "</tr>\n",
       "<tr>\n",
       "  <th>Time:</th>              <td>10:00:19</td>     <th>  BIC                </th> <td>13012.630</td>\n",
       "</tr>\n",
       "<tr>\n",
       "  <th>Sample:</th>                <td>1</td>        <th>  HQIC               </th> <td>12988.874</td>\n",
       "</tr>\n",
       "<tr>\n",
       "  <th></th>                       <td> </td>        <th>                     </th>     <td> </td>    \n",
       "</tr>\n",
       "</table>\n",
       "<table class=\"simpletable\">\n",
       "<tr>\n",
       "        <td></td>           <th>coef</th>     <th>std err</th>      <th>z</th>      <th>P>|z|</th>  <th>[0.025</th>    <th>0.975]</th>  \n",
       "</tr>\n",
       "<tr>\n",
       "  <th>const</th>         <td>    0.0030</td> <td>    0.037</td> <td>    0.082</td> <td> 0.935</td> <td>   -0.070</td> <td>    0.076</td>\n",
       "</tr>\n",
       "<tr>\n",
       "  <th>ar.L1.D.Close</th> <td>    0.9683</td> <td>    0.014</td> <td>   70.071</td> <td> 0.000</td> <td>    0.941</td> <td>    0.995</td>\n",
       "</tr>\n",
       "<tr>\n",
       "  <th>ma.L1.D.Close</th> <td>   -1.0175</td> <td>    0.022</td> <td>  -46.706</td> <td> 0.000</td> <td>   -1.060</td> <td>   -0.975</td>\n",
       "</tr>\n",
       "<tr>\n",
       "  <th>ma.L2.D.Close</th> <td>    0.0268</td> <td>    0.024</td> <td>    1.125</td> <td> 0.261</td> <td>   -0.020</td> <td>    0.073</td>\n",
       "</tr>\n",
       "<tr>\n",
       "  <th>ma.L3.D.Close</th> <td>    0.0356</td> <td>    0.016</td> <td>    2.161</td> <td> 0.031</td> <td>    0.003</td> <td>    0.068</td>\n",
       "</tr>\n",
       "</table>\n",
       "<table class=\"simpletable\">\n",
       "<caption>Roots</caption>\n",
       "<tr>\n",
       "    <td></td>   <th>            Real</th>  <th>         Imaginary</th> <th>         Modulus</th>  <th>        Frequency</th>\n",
       "</tr>\n",
       "<tr>\n",
       "  <th>AR.1</th> <td>           1.0328</td> <td>          +0.0000j</td> <td>           1.0328</td> <td>           0.0000</td>\n",
       "</tr>\n",
       "<tr>\n",
       "  <th>MA.1</th> <td>           1.0528</td> <td>          +0.0000j</td> <td>           1.0528</td> <td>           0.0000</td>\n",
       "</tr>\n",
       "<tr>\n",
       "  <th>MA.2</th> <td>           4.3423</td> <td>          +0.0000j</td> <td>           4.3423</td> <td>           0.0000</td>\n",
       "</tr>\n",
       "<tr>\n",
       "  <th>MA.3</th> <td>          -6.1468</td> <td>          +0.0000j</td> <td>           6.1468</td> <td>           0.5000</td>\n",
       "</tr>\n",
       "</table>"
      ],
      "text/plain": [
       "<class 'statsmodels.iolib.summary.Summary'>\n",
       "\"\"\"\n",
       "                             ARIMA Model Results                              \n",
       "==============================================================================\n",
       "Dep. Variable:                D.Close   No. Observations:                 3488\n",
       "Model:                 ARIMA(1, 1, 3)   Log Likelihood               -6481.844\n",
       "Method:                       css-mle   S.D. of innovations              1.552\n",
       "Date:                Mon, 22 Nov 2021   AIC                          12975.688\n",
       "Time:                        10:00:19   BIC                          13012.630\n",
       "Sample:                             1   HQIC                         12988.874\n",
       "                                                                              \n",
       "=================================================================================\n",
       "                    coef    std err          z      P>|z|      [0.025      0.975]\n",
       "---------------------------------------------------------------------------------\n",
       "const             0.0030      0.037      0.082      0.935      -0.070       0.076\n",
       "ar.L1.D.Close     0.9683      0.014     70.071      0.000       0.941       0.995\n",
       "ma.L1.D.Close    -1.0175      0.022    -46.706      0.000      -1.060      -0.975\n",
       "ma.L2.D.Close     0.0268      0.024      1.125      0.261      -0.020       0.073\n",
       "ma.L3.D.Close     0.0356      0.016      2.161      0.031       0.003       0.068\n",
       "                                    Roots                                    \n",
       "=============================================================================\n",
       "                  Real          Imaginary           Modulus         Frequency\n",
       "-----------------------------------------------------------------------------\n",
       "AR.1            1.0328           +0.0000j            1.0328            0.0000\n",
       "MA.1            1.0528           +0.0000j            1.0528            0.0000\n",
       "MA.2            4.3423           +0.0000j            4.3423            0.0000\n",
       "MA.3           -6.1468           +0.0000j            6.1468            0.5000\n",
       "-----------------------------------------------------------------------------\n",
       "\"\"\""
      ]
     },
     "execution_count": 29,
     "metadata": {},
     "output_type": "execute_result"
    }
   ],
   "source": [
    "# Calling my ARIMA Model\n",
    "from statsmodels.tsa.arima_model import ARIMA\n",
    "model=ARIMA(train['Close'],order=(1,1,3))\n",
    "model=model.fit()\n",
    "model.summary()"
   ]
  },
  {
   "cell_type": "code",
   "execution_count": 30,
   "id": "based-disposal",
   "metadata": {},
   "outputs": [
    {
     "name": "stdout",
     "output_type": "stream",
     "text": [
      "Date\n",
      "2021-10-13    83.522037\n",
      "2021-10-14    83.655736\n",
      "2021-10-15    83.775434\n",
      "2021-10-18    83.891428\n",
      "2021-10-19    84.003836\n",
      "2021-10-20    84.112771\n",
      "2021-10-21    84.218345\n",
      "2021-10-24    84.320663\n",
      "2021-10-25    84.419829\n",
      "2021-10-26    84.515944\n",
      "2021-10-27    84.609103\n",
      "2021-10-28    84.699401\n",
      "2021-10-31    84.786928\n",
      "2021-01-11    84.871773\n",
      "2021-02-11    84.954021\n",
      "2021-03-11    85.033754\n",
      "2021-04-11    85.111052\n",
      "2021-08-11    85.185992\n",
      "2021-09-11    85.258649\n",
      "2021-10-11    85.329096\n",
      "Name: ARIMA Predictions, dtype: float64\n"
     ]
    }
   ],
   "source": [
    "# To check how good is my ARIMA Model\n",
    "start=len(train)\n",
    "end=len(train)+len(test)-1\n",
    "pred=model.predict(start=start,end=end,typ='levels').rename('ARIMA Predictions')\n",
    "pred.index=dataset.index[start:end+1]\n",
    "print(pred)"
   ]
  },
  {
   "cell_type": "code",
   "execution_count": 31,
   "id": "blessed-iraqi",
   "metadata": {},
   "outputs": [
    {
     "data": {
      "text/plain": [
       "<AxesSubplot:xlabel='Date'>"
      ]
     },
     "execution_count": 31,
     "metadata": {},
     "output_type": "execute_result"
    },
    {
     "data": {
      "image/png": "[encoded data removed]",
      "text/plain": [
       "<Figure size 432x288 with 1 Axes>"
      ]
     },
     "metadata": {
      "needs_background": "light"
     },
     "output_type": "display_data"
    }
   ],
   "source": [
    "pred.plot(legend=True)\n",
    "test['Close'].plot(legend=True)"
   ]
  },
  {
   "cell_type": "code",
   "execution_count": 32,
   "id": "british-petite",
   "metadata": {},
   "outputs": [
    {
     "name": "stdout",
     "output_type": "stream",
     "text": [
      "ARIMA Model Mean Value is :  84.1405\n"
     ]
    }
   ],
   "source": [
    "# Checking my accuracy metric\n",
    "from sklearn.metrics import mean_squared_error\n",
    "from math import sqrt\n",
    "print('ARIMA Model Mean Value is : ', test['Close'].mean())"
   ]
  },
  {
   "cell_type": "code",
   "execution_count": 33,
   "id": "present-filing",
   "metadata": {},
   "outputs": [
    {
     "name": "stdout",
     "output_type": "stream",
     "text": [
      "ARIMA Model Accuracy :  1.6852497956016417\n"
     ]
    }
   ],
   "source": [
    "rmse=sqrt(mean_squared_error(pred,test['Close']))\n",
    "print('ARIMA Model Accuracy : ', rmse)"
   ]
  },
  {
   "cell_type": "code",
   "execution_count": 34,
   "id": "scenic-relaxation",
   "metadata": {},
   "outputs": [
    {
     "data": {
      "text/html": [
       "<table class=\"simpletable\">\n",
       "<caption>ARIMA Model Results</caption>\n",
       "<tr>\n",
       "  <th>Dep. Variable:</th>      <td>D.Close</td>     <th>  No. Observations:  </th>   <td>3508</td>   \n",
       "</tr>\n",
       "<tr>\n",
       "  <th>Model:</th>          <td>ARIMA(1, 1, 3)</td>  <th>  Log Likelihood     </th> <td>-6514.922</td>\n",
       "</tr>\n",
       "<tr>\n",
       "  <th>Method:</th>             <td>css-mle</td>     <th>  S.D. of innovations</th>   <td>1.550</td>  \n",
       "</tr>\n",
       "<tr>\n",
       "  <th>Date:</th>          <td>Mon, 22 Nov 2021</td> <th>  AIC                </th> <td>13041.845</td>\n",
       "</tr>\n",
       "<tr>\n",
       "  <th>Time:</th>              <td>10:03:33</td>     <th>  BIC                </th> <td>13078.822</td>\n",
       "</tr>\n",
       "<tr>\n",
       "  <th>Sample:</th>                <td>1</td>        <th>  HQIC               </th> <td>13055.040</td>\n",
       "</tr>\n",
       "<tr>\n",
       "  <th></th>                       <td> </td>        <th>                     </th>     <td> </td>    \n",
       "</tr>\n",
       "</table>\n",
       "<table class=\"simpletable\">\n",
       "<tr>\n",
       "        <td></td>           <th>coef</th>     <th>std err</th>      <th>z</th>      <th>P>|z|</th>  <th>[0.025</th>    <th>0.975]</th>  \n",
       "</tr>\n",
       "<tr>\n",
       "  <th>const</th>         <td>    0.0019</td> <td>    0.037</td> <td>    0.053</td> <td> 0.958</td> <td>   -0.070</td> <td>    0.074</td>\n",
       "</tr>\n",
       "<tr>\n",
       "  <th>ar.L1.D.Close</th> <td>    0.9680</td> <td>    0.014</td> <td>   69.335</td> <td> 0.000</td> <td>    0.941</td> <td>    0.995</td>\n",
       "</tr>\n",
       "<tr>\n",
       "  <th>ma.L1.D.Close</th> <td>   -1.0172</td> <td>    0.022</td> <td>  -46.579</td> <td> 0.000</td> <td>   -1.060</td> <td>   -0.974</td>\n",
       "</tr>\n",
       "<tr>\n",
       "  <th>ma.L2.D.Close</th> <td>    0.0259</td> <td>    0.024</td> <td>    1.095</td> <td> 0.274</td> <td>   -0.020</td> <td>    0.072</td>\n",
       "</tr>\n",
       "<tr>\n",
       "  <th>ma.L3.D.Close</th> <td>    0.0363</td> <td>    0.016</td> <td>    2.210</td> <td> 0.027</td> <td>    0.004</td> <td>    0.068</td>\n",
       "</tr>\n",
       "</table>\n",
       "<table class=\"simpletable\">\n",
       "<caption>Roots</caption>\n",
       "<tr>\n",
       "    <td></td>   <th>            Real</th>  <th>         Imaginary</th> <th>         Modulus</th>  <th>        Frequency</th>\n",
       "</tr>\n",
       "<tr>\n",
       "  <th>AR.1</th> <td>           1.0331</td> <td>          +0.0000j</td> <td>           1.0331</td> <td>           0.0000</td>\n",
       "</tr>\n",
       "<tr>\n",
       "  <th>MA.1</th> <td>           1.0530</td> <td>          +0.0000j</td> <td>           1.0530</td> <td>           0.0000</td>\n",
       "</tr>\n",
       "<tr>\n",
       "  <th>MA.2</th> <td>           4.3083</td> <td>          +0.0000j</td> <td>           4.3083</td> <td>           0.0000</td>\n",
       "</tr>\n",
       "<tr>\n",
       "  <th>MA.3</th> <td>          -6.0764</td> <td>          +0.0000j</td> <td>           6.0764</td> <td>           0.5000</td>\n",
       "</tr>\n",
       "</table>"
      ],
      "text/plain": [
       "<class 'statsmodels.iolib.summary.Summary'>\n",
       "\"\"\"\n",
       "                             ARIMA Model Results                              \n",
       "==============================================================================\n",
       "Dep. Variable:                D.Close   No. Observations:                 3508\n",
       "Model:                 ARIMA(1, 1, 3)   Log Likelihood               -6514.922\n",
       "Method:                       css-mle   S.D. of innovations              1.550\n",
       "Date:                Mon, 22 Nov 2021   AIC                          13041.845\n",
       "Time:                        10:03:33   BIC                          13078.822\n",
       "Sample:                             1   HQIC                         13055.040\n",
       "                                                                              \n",
       "=================================================================================\n",
       "                    coef    std err          z      P>|z|      [0.025      0.975]\n",
       "---------------------------------------------------------------------------------\n",
       "const             0.0019      0.037      0.053      0.958      -0.070       0.074\n",
       "ar.L1.D.Close     0.9680      0.014     69.335      0.000       0.941       0.995\n",
       "ma.L1.D.Close    -1.0172      0.022    -46.579      0.000      -1.060      -0.974\n",
       "ma.L2.D.Close     0.0259      0.024      1.095      0.274      -0.020       0.072\n",
       "ma.L3.D.Close     0.0363      0.016      2.210      0.027       0.004       0.068\n",
       "                                    Roots                                    \n",
       "=============================================================================\n",
       "                  Real          Imaginary           Modulus         Frequency\n",
       "-----------------------------------------------------------------------------\n",
       "AR.1            1.0331           +0.0000j            1.0331            0.0000\n",
       "MA.1            1.0530           +0.0000j            1.0530            0.0000\n",
       "MA.2            4.3083           +0.0000j            4.3083            0.0000\n",
       "MA.3           -6.0764           +0.0000j            6.0764            0.5000\n",
       "-----------------------------------------------------------------------------\n",
       "\"\"\""
      ]
     },
     "execution_count": 34,
     "metadata": {},
     "output_type": "execute_result"
    }
   ],
   "source": [
    "# Calling my ARIMA Model\n",
    "from statsmodels.tsa.arima_model import ARIMA\n",
    "model2=ARIMA(dataset['Close'],order=(1,1,3))\n",
    "model2=model2.fit()\n",
    "model2.summary()"
   ]
  },
  {
   "cell_type": "code",
   "execution_count": 36,
   "id": "forbidden-agenda",
   "metadata": {},
   "outputs": [
    {
     "data": {
      "text/html": [
       "<div>\n",
       "<style scoped>\n",
       "    .dataframe tbody tr th:only-of-type {\n",
       "        vertical-align: middle;\n",
       "    }\n",
       "\n",
       "    .dataframe tbody tr th {\n",
       "        vertical-align: top;\n",
       "    }\n",
       "\n",
       "    .dataframe thead th {\n",
       "        text-align: right;\n",
       "    }\n",
       "</style>\n",
       "<table border=\"1\" class=\"dataframe\">\n",
       "  <thead>\n",
       "    <tr style=\"text-align: right;\">\n",
       "      <th></th>\n",
       "      <th>Open</th>\n",
       "      <th>High</th>\n",
       "      <th>Low</th>\n",
       "      <th>Close</th>\n",
       "      <th>Adj Close</th>\n",
       "      <th>Volume</th>\n",
       "    </tr>\n",
       "    <tr>\n",
       "      <th>Date</th>\n",
       "      <th></th>\n",
       "      <th></th>\n",
       "      <th></th>\n",
       "      <th></th>\n",
       "      <th></th>\n",
       "      <th></th>\n",
       "    </tr>\n",
       "  </thead>\n",
       "  <tbody>\n",
       "    <tr>\n",
       "      <th>2021-03-11</th>\n",
       "      <td>81.32</td>\n",
       "      <td>84.50</td>\n",
       "      <td>80.19</td>\n",
       "      <td>80.54</td>\n",
       "      <td>80.54</td>\n",
       "      <td>72626.0</td>\n",
       "    </tr>\n",
       "    <tr>\n",
       "      <th>2021-04-11</th>\n",
       "      <td>81.00</td>\n",
       "      <td>83.15</td>\n",
       "      <td>80.27</td>\n",
       "      <td>82.74</td>\n",
       "      <td>82.74</td>\n",
       "      <td>43130.0</td>\n",
       "    </tr>\n",
       "    <tr>\n",
       "      <th>2021-08-11</th>\n",
       "      <td>82.57</td>\n",
       "      <td>83.99</td>\n",
       "      <td>82.50</td>\n",
       "      <td>83.43</td>\n",
       "      <td>83.43</td>\n",
       "      <td>27655.0</td>\n",
       "    </tr>\n",
       "    <tr>\n",
       "      <th>2021-09-11</th>\n",
       "      <td>83.59</td>\n",
       "      <td>85.14</td>\n",
       "      <td>83.18</td>\n",
       "      <td>84.78</td>\n",
       "      <td>84.78</td>\n",
       "      <td>34996.0</td>\n",
       "    </tr>\n",
       "    <tr>\n",
       "      <th>2021-10-11</th>\n",
       "      <td>85.16</td>\n",
       "      <td>85.50</td>\n",
       "      <td>82.09</td>\n",
       "      <td>82.64</td>\n",
       "      <td>82.64</td>\n",
       "      <td>34996.0</td>\n",
       "    </tr>\n",
       "  </tbody>\n",
       "</table>\n",
       "</div>"
      ],
      "text/plain": [
       "             Open   High    Low  Close  Adj Close   Volume\n",
       "Date                                                      \n",
       "2021-03-11  81.32  84.50  80.19  80.54      80.54  72626.0\n",
       "2021-04-11  81.00  83.15  80.27  82.74      82.74  43130.0\n",
       "2021-08-11  82.57  83.99  82.50  83.43      83.43  27655.0\n",
       "2021-09-11  83.59  85.14  83.18  84.78      84.78  34996.0\n",
       "2021-10-11  85.16  85.50  82.09  82.64      82.64  34996.0"
      ]
     },
     "execution_count": 36,
     "metadata": {},
     "output_type": "execute_result"
    }
   ],
   "source": [
    "dataset.tail()"
   ]
  },
  {
   "cell_type": "code",
   "execution_count": 47,
   "id": "controversial-bubble",
   "metadata": {},
   "outputs": [
    {
     "name": "stdout",
     "output_type": "stream",
     "text": [
      "2021-11-10    82.749978\n",
      "2021-11-11    82.854408\n",
      "2021-11-12    82.880028\n",
      "2021-11-13    82.904889\n",
      "2021-11-14    82.929016\n",
      "2021-11-15    82.952433\n",
      "2021-11-16    82.975162\n",
      "2021-11-17    82.997225\n",
      "2021-11-18    83.018644\n",
      "2021-11-19    83.039439\n",
      "2021-11-20    83.059631\n",
      "2021-11-21    83.079238\n",
      "2021-11-22    83.098279\n",
      "2021-11-23    83.116773\n",
      "2021-11-24    83.134736\n",
      "2021-11-25    83.152187\n",
      "2021-11-26    83.169141\n",
      "2021-11-27    83.185614\n",
      "2021-11-28    83.201622\n",
      "2021-11-29    83.217179\n",
      "2021-11-30    83.232300\n",
      "2021-12-01    83.247000\n",
      "2021-12-02    83.261291\n",
      "2021-12-03    83.275186\n",
      "2021-12-04    83.288699\n",
      "2021-12-05    83.301841\n",
      "2021-12-06    83.314625\n",
      "2021-12-07    83.327061\n",
      "2021-12-08    83.339162\n",
      "2021-12-09    83.350937\n",
      "2021-12-10    83.362398\n",
      "Freq: D, Name: ARIMA Predictions, dtype: float64\n"
     ]
    }
   ],
   "source": [
    "index_future_dates=pd.date_range(start='2021-11-10', end='2021-12-10')\n",
    "#print(index_future_dates)\n",
    "pred=model2.predict(start=len(dataset),end=len(dataset)+30,typ='levels').rename('ARIMA Predictions')\n",
    "pred.index=index_future_dates\n",
    "print(pred)"
   ]
  },
  {
   "cell_type": "code",
   "execution_count": 49,
   "id": "conceptual-muslim",
   "metadata": {},
   "outputs": [
    {
     "data": {
      "text/plain": [
       "<AxesSubplot:>"
      ]
     },
     "execution_count": 49,
     "metadata": {},
     "output_type": "execute_result"
    },
    {
     "data": {
      "image/png": "[encoded data removed]",
      "text/plain": [
       "<Figure size 432x288 with 1 Axes>"
      ]
     },
     "metadata": {
      "needs_background": "light"
     },
     "output_type": "display_data"
    }
   ],
   "source": [
    "pred.plot(legend=True)\n"
   ]
  },
  {
   "cell_type": "code",
   "execution_count": null,
   "id": "false-eating",
   "metadata": {},
   "outputs": [],
   "source": []
  }
 ],
 "metadata": {
  "kernelspec": {
   "display_name": "Python 3",
   "language": "python",
   "name": "python3"
  },
  "language_info": {
   "codemirror_mode": {
    "name": "ipython",
    "version": 3
   },
   "file_extension": ".py",
   "mimetype": "text/x-python",
   "name": "python",
   "nbconvert_exporter": "python",
   "pygments_lexer": "ipython3",
   "version": "3.9.1"
  }
 },
 "nbformat": 4,
 "nbformat_minor": 5
}
